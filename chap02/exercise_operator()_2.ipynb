{
 "cells": [
  {
   "cell_type": "markdown",
   "id": "ac945538",
   "metadata": {},
   "source": [
    "## **2장 연습문제(논리 연산자)**\n",
    "---\n",
    "#### 1. 5가 3보다 크고 7보다 작은지 검사하는 프로그램을 작성하라.\n",
    "print(3 < 5 < 7)\n",
    "> True\n",
    "\n",
    "#### 2. 변수 x가 10 이상이고 20 이하인지 검사하는 프로그램을 작성하라.\n",
    "x = 18   \n",
    "print(10 <= x <= 20)\n",
    "> True\n",
    "\n",
    "#### 3. 변수 y가 5의 배수이거나 7의 배수인지 검사하는 프로그램을 작성하라.\n",
    "y = 15   \n",
    "print(y % 5 == 0 or y % 7 == 0)\n",
    "> True\n",
    "\n",
    "#### 4. 변수 z가 양수이면서 짝수인지 검사하는 프로그램을 작성하라.\n",
    "z = 8   \n",
    "print(z > 0 and z % 2 == 0)\n",
    "> True\n",
    "\n",
    "#### 5. 변수 a가 문자열 \"hello\"나 문자열 \"world\" 중 하나인지 검사하는 프로그램을 작성하라.\n",
    "a = 'hello'   \n",
    "print(a in [\"hello\", \"world\"])\n",
    "> True"
   ]
  }
 ],
 "metadata": {
  "language_info": {
   "name": "python"
  }
 },
 "nbformat": 4,
 "nbformat_minor": 5
}
