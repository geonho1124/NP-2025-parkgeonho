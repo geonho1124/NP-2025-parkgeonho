{
 "cells": [
  {
   "cell_type": "markdown",
   "id": "5b0d1a6f",
   "metadata": {},
   "source": [
    "## **2장 연습문제(연습문제 2)**\n",
    "---\n",
    "#### 1. 초를 입력하면 분과 초로 표시하는 프로그램. 예를 들어, 200초를 입력하면 3분 20초로 표현하라\n",
    "seconds = int(input(\"초를 입력하세요: \"))   \n",
    "> 초를 입력하세요: 200\n",
    "\n",
    "minutes = seconds // 60   \n",
    "remain_sec = seconds % 60   \n",
    "print(f\"{minutes}분 {remain_sec}초\")   \n",
    "> 3분 20초\n",
    "\n",
    "#### 2. 분(min)을 입력하면, 일, 시간, 분으로 출력하는 프로그램을 만들어라. (예: 1550분은 1일 1시간 50분)\n",
    "minutes_total = int(input(\"분을 입력하세요: \"))   \n",
    "> 분을 입력하세요: 1550\n",
    "\n",
    "days = minutes_total // (24 * 60)   \n",
    "hours = (minutes_total % (24 * 60)) // 60   \n",
    "mins = minutes_total % 60   \n",
    "print(f\"{days}일 {hours}시간 {mins}분\")   \n",
    "> 1일 1시간 50분\n",
    "\n",
    "#### 3. 500만원을 년이율 5%로 복리 저금했을 때 5년 후의 원리금의 합계를 출력하는 프로그램\n",
    "principal = 5000000   \n",
    "rate = 0.05   \n",
    "yesars = 5   \n",
    "amount = principal * ((1 + rate) ** years)   \n",
    "print(f\"5년 후 원리금 합계: {amount:.0f}원\")\n",
    "> 5년 후 원리금 합계: 6381402원\n",
    "\n",
    "#### 4. 1부터 n까지의 합은 n(n+1)/2로 주어진다. 1부터 100까지의 합을 구하여 출력하는 프로그램을 작성하고 실행하라.\n",
    "n = 100   \n",
    "sum_n = n * (n + 1) // 2   \n",
    "print(f\"1부터 100까지의 합: {sum_n}\")   \n",
    "> 1부터 100까지의 합: 5050\n",
    "\n",
    "#### 5. 판매자가 딸기와 포도를 판매하고 있다. 포도 한 알의 무게는 75g이고 딸기 한 알의 무게는 113.5g이다. 사용자로부터 포도 알의 개수와 딸기의 개수를 입력 받아 총 무게를 계산하여 출력하는 프로그램을 작성하고 실행하라.\n",
    "grape_count = int(input(\"포도의 개수를 입력하세요: ))   \n",
    "> 포도의 개수를 입력하세요: 10\n",
    "\n",
    "strawberry_count = int(input(\"딸기의 개수를 입력하세요: ))   \n",
    "> 딸기의 개수를 입력하세요: 5\n",
    "\n",
    "total_weight = grape_count * 75 + strawberry_count * 113.5   \n",
    "print(f\"총 무게: {total_weight} g\")   \n",
    "> 총 무게: 1317.5 g"
   ]
  }
 ],
 "metadata": {
  "language_info": {
   "name": "python"
  }
 },
 "nbformat": 4,
 "nbformat_minor": 5
}
