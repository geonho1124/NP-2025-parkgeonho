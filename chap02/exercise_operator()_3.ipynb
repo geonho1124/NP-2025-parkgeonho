{
 "cells": [
  {
   "cell_type": "markdown",
   "id": "e33823ce",
   "metadata": {},
   "source": [
    "## **2장 연습문제(멤버 연산자)**\n",
    "---\n",
    "#### 1. 숫자 7이 리스트 [1, 2, 3, 4, 5]에  포함되어 있는지 검사하는 프로그램을 작성하라.\n",
    "print(7 in [1, 2, 3, 4, 5])\n",
    "> False\n",
    "\n",
    "#### 2. 문자열 \"apple\"이 세트 {\"orange\", \"banana\", \"kiwi\"}에 포함되어 있는지 검사하는 프로그램을 작성하라.\n",
    "print(\"apple\" in {\"orange\", \"banana\", \"kiwi\"})\n",
    "> False\n",
    "\n",
    "#### 3. 숫자 6이 딕셔너리 {\"a\": 1, \"b\": 2, \"c\": 3, \"d\": 4}의 값들 중 하나인지 검사하는 프로그램을 작성하라.\n",
    "print(6 in {\"a\" : 1, \"b\" : 2, \"c\" : 3, \"d\" : 4}.values())\n",
    "> False\n",
    "\n",
    "#### 4. 문자열 \"cat\"이 튜플 (\"dog\", \"cat\", \"bird\", \"hamster\")에 포함되어 있는지 검사하는 프로그램을 작성하라.\n",
    "print(\"cat\" in (\"dog\", \"cat\", \"bird\", \"hamster\"))\n",
    "> True\n",
    "\n",
    "#### 5. 숫자 10이 세트 {2, 4, 6, 8, 10}에 포함되어 있는지 검사하는 프로그램을 작성하라.\n",
    "print(10 in {2, 4, 6, 8, 10})\n",
    "> True"
   ]
  }
 ],
 "metadata": {
  "language_info": {
   "name": "python"
  }
 },
 "nbformat": 4,
 "nbformat_minor": 5
}
