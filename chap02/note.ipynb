{
 "cells": [
  {
   "cell_type": "markdown",
   "id": "bd325f6c",
   "metadata": {},
   "source": [
    "## **2장 노트정리**\n",
    "\n",
    "이 파일은 2장 학습하면서 실행한 내용을 정리한 것이다.\n",
    "\n",
    "날짜 : 2025.09.09\n",
    "\n",
    "실습자 : 박건호\n",
    "\n",
    "학번 : 202110501"
   ]
  },
  {
   "cell_type": "markdown",
   "id": "917c9e6e",
   "metadata": {},
   "source": [
    "- - -\n",
    "* #### 수업 중 실습한 부분"
   ]
  },
  {
   "cell_type": "code",
   "execution_count": 1,
   "id": "b5d7e871",
   "metadata": {},
   "outputs": [
    {
     "name": "stdout",
     "output_type": "stream",
     "text": [
      "Hello, 여러분!!\n"
     ]
    }
   ],
   "source": [
    "print(\"Hello, 여러분!!\")"
   ]
  },
  {
   "cell_type": "code",
   "execution_count": 2,
   "id": "61dc04ed",
   "metadata": {},
   "outputs": [
    {
     "name": "stdout",
     "output_type": "stream",
     "text": [
      "x = 3\n"
     ]
    }
   ],
   "source": [
    "x = 3\n",
    "print(f\"x = {x}\")"
   ]
  },
  {
   "cell_type": "markdown",
   "id": "e6672a55",
   "metadata": {},
   "source": [
    "* #### 기본 입출력 함수 - (print() 함수)\n",
    "print(10+20)   \n",
    "> 30   \n",
    "\n",
    "print(\"서원대학교\")   \n",
    "> 서원대학교   \n",
    "\n",
    "print(\"abc \" * 3)   \n",
    "> abc abc abc   \n",
    "\n",
    "x = 25    \n",
    "y = 32    \n",
    "z = x + y   \n",
    "print(x, y)   \n",
    "> 25 32   \n",
    "\n",
    "print(x, '+', y, '=', z)   \n",
    "> 25 + 32 = 57   \n",
    "\n",
    "* #### 기본 입출력 함수 - (print() 함수-서식지정)\n",
    "print(10+20)   \n",
    "> 30   \n",
    "\n",
    "print(\"10\"+\"20\")   \n",
    "> 1020   \n",
    "\n",
    "print(\"abc \" * 3)   \n",
    "> abc abc abc   \n",
    "\n",
    "n = 10   \n",
    "print(\"n=%d\" %n)   \n",
    "> n=10   \n",
    "\n",
    "m = 5.2   \n",
    "print(\"m=%.1f, n=%d\" %(m,n))   \n",
    "> m=5.2, n=10\n",
    "\n",
    "* #### 기본 입출력 함수 - (input() 함수)\n",
    "n = input('type a number : ')   \n",
    "> type a number : 3   \n",
    "\n",
    "n   \n",
    ">'3'\n",
    "\n",
    "int(n)   \n",
    "> 3   \n",
    "\n",
    "float(n)   \n",
    "> 3.0\n",
    "\n",
    "n = str(3)   \n",
    "n   \n",
    "> '3'   \n",
    "\n",
    "* #### 기본 입출력 함수 - (사용 예 3가지)\n",
    "##\n",
    "    - 문자열을 입력 받아 다른 문자열과 결합하여 출력\n",
    "name = input('Name: ')   \n",
    "> Name: geonho   \n",
    "\n",
    "print(\"Hello,\" + name)   \n",
    "> Hello,geonho   \n",
    "\n",
    "    - 두 정수를 입력 받아 곱셈 결과 출력\n",
    "a = int(input('Number 1: '))   \n",
    "> Number 1: 2   \n",
    "\n",
    "b = int(input('Number 2: '))   \n",
    "> Number 2: 5   \n",
    "\n",
    "print(a * b)   \n",
    "> 10\n",
    "\n",
    "    - 섭씨온도(C)를 입력 받아 화씨온도(F)로 바꾸어 출력\n",
    "C = float(input(\"Type 섭씨온도 : \"))   \n",
    "> Type 섭씨온도 : 32.0   \n",
    "\n",
    "F = C*9/5 + 32   \n",
    "print(\"화씨온도는\", F)   \n",
    "> 화씨온도는 89.6   "
   ]
  }
 ],
 "metadata": {
  "kernelspec": {
   "display_name": "Python 3",
   "language": "python",
   "name": "python3"
  },
  "language_info": {
   "codemirror_mode": {
    "name": "ipython",
    "version": 3
   },
   "file_extension": ".py",
   "mimetype": "text/x-python",
   "name": "python",
   "nbconvert_exporter": "python",
   "pygments_lexer": "ipython3",
   "version": "3.12.2"
  }
 },
 "nbformat": 4,
 "nbformat_minor": 5
}
