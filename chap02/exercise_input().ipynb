{
 "cells": [
  {
   "cell_type": "markdown",
   "id": "d201dc90",
   "metadata": {},
   "source": [
    "## **2장 연습문제(input() 함수)**\n",
    "---\n",
    "#### 1. 키보드에서 임의의 두 실수를 입력 받아 곱한 후 그 결과를 출력하는 프로그램을 작성하고 실행하라.\n",
    "a = float(input('첫번째 실수를 입력하세요 : '))\n",
    "> 첫번째 실수를 입력하세요 : 2.0\n",
    "\n",
    "b = float(input('두번째 실수를 입력하세요 : '))\n",
    "> 두번째 실수를 입력하세요 : 3.0\n",
    "\n",
    "print('두 실수의 곱 : ', a * b)\n",
    "> 두 실수의 곱 :  6.0\n",
    "\n",
    "#### 2. 1마일은 1.690km이다. 키보드에서 마일(정수)을 입력 받아 km로 변환해 출력하는 프로그램을 작성하고 실행하라.\n",
    "mile = int(input('마일(정수)을 입력하세요 : '))\n",
    "> 마일(정수)을 입력하세요 : 3\n",
    "\n",
    "km = mile * 1.609   \n",
    "print(f'{mile}마일은 {km}km입니다.')\n",
    "> 3마일은 4.827km입니다.\n",
    "\n",
    "#### 3. 원의 반지름을 입력 받아 원의 둘레와 원의 면적을 출력하는 프로그램을 작성하라.\n",
    "r = float(input('원의 반지름을 입력하세요 : '))\n",
    "> 원의 반지름을 입력하세요 : 5.0\n",
    "\n",
    "a = 2 * r   \n",
    "b = r * r   \n",
    "print(f'원의 둘레 : {a}π, 원의 면적 : {b}π')\n",
    "> 원의 둘레 : 10.0π, 원의 면적 : 25.0π"
   ]
  }
 ],
 "metadata": {
  "kernelspec": {
   "display_name": "Python 3",
   "language": "python",
   "name": "python3"
  },
  "language_info": {
   "codemirror_mode": {
    "name": "ipython",
    "version": 3
   },
   "file_extension": ".py",
   "mimetype": "text/x-python",
   "name": "python",
   "nbconvert_exporter": "python",
   "pygments_lexer": "ipython3",
   "version": "3.12.2"
  }
 },
 "nbformat": 4,
 "nbformat_minor": 5
}
