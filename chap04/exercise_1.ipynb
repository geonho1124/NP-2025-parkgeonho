{
 "cells": [
  {
   "cell_type": "markdown",
   "id": "982ffea9",
   "metadata": {},
   "source": [
    "## **4장 연습문제(연습문제-1 (리스트))**\n",
    "---\n",
    "#### 3명 이상 친구 이름 리스트를 작성하고 다음 내용을 프로그램하시오"
   ]
  },
  {
   "cell_type": "code",
   "execution_count": 12,
   "id": "557af14f",
   "metadata": {},
   "outputs": [
    {
     "name": "stdout",
     "output_type": "stream",
     "text": [
      "- insert()로 맨 앞에 새로운 친구 추가\n",
      " ['송석한', '박건호', '이영준', '차일권']\n",
      "\n",
      "- insert()로 3번째 위치에 새로운 친구 추가\n",
      " ['송석한', '박건호', '정희태', '이영준', '차일권']\n",
      "\n",
      "- append()로 마지막에 친구 추가\n",
      " ['송석한', '박건호', '정희태', '이영준', '차일권', '홍길동']\n"
     ]
    }
   ],
   "source": [
    "friends = [\"박건호\", \"이영준\", \"차일권\"]\n",
    "\n",
    "# insert()로 맨 앞에 새로운 친구 추가\n",
    "friends.insert(0, \"송석한\")\n",
    "print(f\"- insert()로 맨 앞에 새로운 친구 추가\\n\", friends)\n",
    "\n",
    "# insert()로 3번째 위치에 새로운 친구 추가\n",
    "friends.insert(2, \"정희태\")\n",
    "print(f\"\\n- insert()로 3번째 위치에 새로운 친구 추가\\n\",friends)\n",
    "\n",
    "# append()로 마지막에 친구 추가\n",
    "friends.append(\"홍길동\")\n",
    "print(f\"\\n- append()로 마지막에 친구 추가\\n\", friends)"
   ]
  },
  {
   "cell_type": "markdown",
   "id": "8e085edc",
   "metadata": {},
   "source": [
    "#### 리스트 [1,2,3]에 대해 다음과 같은 처리를 하라."
   ]
  },
  {
   "cell_type": "code",
   "execution_count": 13,
   "id": "86d56ef0",
   "metadata": {},
   "outputs": [
    {
     "name": "stdout",
     "output_type": "stream",
     "text": [
      "- 두 번째 요소를 17로 수정\n",
      " [1, 17, 3]\n",
      "\n",
      "- 리스트에 4, 5, 6을 추가\n",
      " [1, 17, 3, 4, 5, 6]\n",
      "\n",
      "- 첫 번째 요소 제거\n",
      " [17, 3, 4, 5, 6]\n",
      "\n",
      "- 리스트를 요소 순서대로 배열하기\n",
      " [3, 4, 5, 6, 17]\n",
      "\n",
      "- 인덱스 3에 25 넣기\n",
      " [3, 4, 5, 25, 6, 17]\n"
     ]
    }
   ],
   "source": [
    "numbers = [1, 2, 3]\n",
    "\n",
    "# 두 번째 요소를 17로 수정\n",
    "numbers[1] = 17\n",
    "print(f\"- 두 번째 요소를 17로 수정\\n\", numbers)\n",
    "\n",
    "# 리스트에 4, 5, 6을 추가\n",
    "numbers.extend([4, 5, 6])\n",
    "print(f\"\\n- 리스트에 4, 5, 6을 추가\\n\", numbers)\n",
    "\n",
    "# 첫 번째 요소 제거\n",
    "numbers.pop(0)\n",
    "print(f\"\\n- 첫 번째 요소 제거\\n\", numbers)\n",
    "\n",
    "# 리스트를 요소 순서대로 배열하기\n",
    "numbers.sort()\n",
    "print(f\"\\n- 리스트를 요소 순서대로 배열하기\\n\", numbers)\n",
    "\n",
    "# 인덱스 3에 25 넣기\n",
    "numbers.insert(3, 25)\n",
    "print(f\"\\n- 인덱스 3에 25 넣기\\n\", numbers)"
   ]
  }
 ],
 "metadata": {
  "kernelspec": {
   "display_name": "Python 3",
   "language": "python",
   "name": "python3"
  },
  "language_info": {
   "codemirror_mode": {
    "name": "ipython",
    "version": 3
   },
   "file_extension": ".py",
   "mimetype": "text/x-python",
   "name": "python",
   "nbconvert_exporter": "python",
   "pygments_lexer": "ipython3",
   "version": "3.12.2"
  }
 },
 "nbformat": 4,
 "nbformat_minor": 5
}
