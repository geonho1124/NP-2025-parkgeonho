{
 "cells": [
  {
   "cell_type": "markdown",
   "id": "6f4b13aa",
   "metadata": {},
   "source": [
    "## **4장 연습문제(연습문제-1 (딕셔너리))**\n",
    "---\n",
    "#### 다음 딕셔너리에 대해 물음에 답하라. <br>days = {'January':31, 'February':28, 'March':31, 'April':30, 'May':31, 'June':30, 'July':31, 'August':31, 'September':30, 'October':31, 'November':30, 'December':31}"
   ]
  },
  {
   "cell_type": "code",
   "execution_count": 10,
   "id": "3c3c69e9",
   "metadata": {},
   "outputs": [
    {
     "name": "stdout",
     "output_type": "stream",
     "text": [
      "- 사용자가 월을 입력하면 해당 월에 일수를 출력하라\n",
      "December는 31일입니다.\n",
      "\n",
      "- 알파벳 순서로 모든 월을 출력하라.\n",
      "April August December February January July June March May November October September \n",
      "\n",
      "- 일수가 31일인 월을 모두 출력하라.\n",
      "January March May July August October December \n",
      "\n",
      "- 월의 일수를 기준으로 오름차순으로 (key, value) 쌍을 출력하라.\n",
      "February: 28 April: 30 June: 30 September: 30 November: 30 January: 31 March: 31 May: 31 July: 31 August: 31 October: 31 December: 31 \n",
      "\n",
      "- 사용자가 월을 3자리만 입력하면 월의 일수를 출력하라.(Jan, Feb 등)\n",
      "Feb는 28일입니다.\n"
     ]
    }
   ],
   "source": [
    "# 딕셔너리 정의\n",
    "days = {'January':31, 'February':28, 'March':31, 'April':30,\n",
    "'May':31, 'June':30, 'July':31, 'August':31,\n",
    "'September':30, 'October':31, 'November':30, 'December':31}\n",
    " \n",
    " # - 사용자가 월을 입력하면 해당 월에 일수를 출력하라.\n",
    "month = input(\"월을 입력하세요 (예: January): \")\n",
    "if month in days:\n",
    "    print(f\"- 사용자가 월을 입력하면 해당 월에 일수를 출력하라\\n{month}는 {days[month]}일입니다.\")\n",
    "else:\n",
    "    print(\"잘못된 월 입력입니다.\")\n",
    "    \n",
    "# - 알파벳 순서로 모든 월을 출력하라.\n",
    "print(\"\\n- 알파벳 순서로 모든 월을 출력하라.\")\n",
    "for month in sorted(days.keys()):\n",
    "    print(month, end=' ')\n",
    "    \n",
    "# - 일수가 31일인 월을 모두 출력하라.\n",
    "print(\"\\n\\n- 일수가 31일인 월을 모두 출력하라.\")\n",
    "for month, day in days.items():\n",
    "    if day == 31:\n",
    "        print(month, end=' ')\n",
    "\n",
    "# - 월의 일수를 기준으로 오름차순으로 (key, value) 쌍을 출력하라.\n",
    "print(\"\\n\\n- 월의 일수를 기준으로 오름차순으로 (key, value) 쌍을 출력하라.\")\n",
    "for month, day in sorted(days.items(), key=lambda item: item[1]):\n",
    "    print(f\"{month}: {day}\", end=' ')\n",
    "    \n",
    "# - 사용자가 월을 3자리만 입력하면 월의 일수를 출력하라.(Jan, Feb 등)\n",
    "short_month = input(\"\\n\\n월을 3자리로 입력하세요 (예: Jan): \")\n",
    "month_map = {month[:3]: month for month in days.keys()}\n",
    "print(\"\\n\\n- 사용자가 월을 3자리만 입력하면 월의 일수를 출력하라.(Jan, Feb 등)\")\n",
    "if short_month in month_map:\n",
    "    full_month = month_map[short_month]\n",
    "    print(f\"{short_month}는 {days[full_month]}일입니다.\")\n",
    "else:\n",
    "    print(\"잘못된 월 입력입니다.\")"
   ]
  },
  {
   "cell_type": "code",
   "execution_count": null,
   "id": "11e7bde4",
   "metadata": {},
   "outputs": [],
   "source": []
  }
 ],
 "metadata": {
  "kernelspec": {
   "display_name": "Python 3",
   "language": "python",
   "name": "python3"
  },
  "language_info": {
   "codemirror_mode": {
    "name": "ipython",
    "version": 3
   },
   "file_extension": ".py",
   "mimetype": "text/x-python",
   "name": "python",
   "nbconvert_exporter": "python",
   "pygments_lexer": "ipython3",
   "version": "3.12.2"
  }
 },
 "nbformat": 4,
 "nbformat_minor": 5
}
